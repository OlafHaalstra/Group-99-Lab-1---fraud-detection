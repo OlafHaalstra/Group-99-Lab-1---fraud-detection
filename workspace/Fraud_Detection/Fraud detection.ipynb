{
 "cells": [
  {
   "cell_type": "code",
   "execution_count": 90,
   "metadata": {},
   "outputs": [],
   "source": [
    "import os.path\n",
    "import datetime\n",
    "import time\n",
    "import scipy\n",
    "import numpy as np\n",
    "import pandas as pd\n",
    "import seaborn as sns\n",
    "import matplotlib.pyplot as plt\n",
    "import matplotlib.gridspec as gridspec\n",
    "from collections import Counter\n",
    "\n",
    "# Default parameters\n",
    "RANDOM_STATE = 44\n",
    "K_FOLD = 10\n",
    "CUTOFF = 0.5"
   ]
  },
  {
   "cell_type": "markdown",
   "metadata": {},
   "source": [
    "## Load data"
   ]
  },
  {
   "cell_type": "code",
   "execution_count": 91,
   "metadata": {},
   "outputs": [
    {
     "data": {
      "text/html": [
       "<div>\n",
       "<table border=\"1\" class=\"dataframe\">\n",
       "  <thead>\n",
       "    <tr style=\"text-align: right;\">\n",
       "      <th></th>\n",
       "      <th>txid</th>\n",
       "      <th>bookingdate</th>\n",
       "      <th>issuercountrycode</th>\n",
       "      <th>txvariantcode</th>\n",
       "      <th>bin</th>\n",
       "      <th>amount</th>\n",
       "      <th>currencycode</th>\n",
       "      <th>shoppercountrycode</th>\n",
       "      <th>shopperinteraction</th>\n",
       "      <th>simple_journal</th>\n",
       "      <th>cardverificationcodesupplied</th>\n",
       "      <th>cvcresponsecode</th>\n",
       "      <th>creationdate</th>\n",
       "      <th>accountcode</th>\n",
       "      <th>mail_id</th>\n",
       "      <th>ip_id</th>\n",
       "      <th>card_id</th>\n",
       "    </tr>\n",
       "  </thead>\n",
       "  <tbody>\n",
       "    <tr>\n",
       "      <th>0</th>\n",
       "      <td>1</td>\n",
       "      <td>2015-11-09 14:26:51</td>\n",
       "      <td>MX</td>\n",
       "      <td>mccredit</td>\n",
       "      <td>530056.0</td>\n",
       "      <td>64800.0</td>\n",
       "      <td>MXN</td>\n",
       "      <td>MX</td>\n",
       "      <td>Ecommerce</td>\n",
       "      <td>Chargeback</td>\n",
       "      <td>True</td>\n",
       "      <td>0</td>\n",
       "      <td>2015-07-01 23:03:11</td>\n",
       "      <td>MexicoAccount</td>\n",
       "      <td>email68370</td>\n",
       "      <td>ip111778</td>\n",
       "      <td>card184798</td>\n",
       "    </tr>\n",
       "    <tr>\n",
       "      <th>1</th>\n",
       "      <td>2</td>\n",
       "      <td>2015-11-09 14:27:38</td>\n",
       "      <td>MX</td>\n",
       "      <td>mccredit</td>\n",
       "      <td>547046.0</td>\n",
       "      <td>44900.0</td>\n",
       "      <td>MXN</td>\n",
       "      <td>MX</td>\n",
       "      <td>Ecommerce</td>\n",
       "      <td>Chargeback</td>\n",
       "      <td>True</td>\n",
       "      <td>0</td>\n",
       "      <td>2015-07-02 04:50:55</td>\n",
       "      <td>MexicoAccount</td>\n",
       "      <td>email101299</td>\n",
       "      <td>ip78749</td>\n",
       "      <td>card151595</td>\n",
       "    </tr>\n",
       "    <tr>\n",
       "      <th>2</th>\n",
       "      <td>3</td>\n",
       "      <td>2015-11-23 16:34:16</td>\n",
       "      <td>MX</td>\n",
       "      <td>mccredit</td>\n",
       "      <td>528843.0</td>\n",
       "      <td>149900.0</td>\n",
       "      <td>MXN</td>\n",
       "      <td>MX</td>\n",
       "      <td>Ecommerce</td>\n",
       "      <td>Chargeback</td>\n",
       "      <td>True</td>\n",
       "      <td>0</td>\n",
       "      <td>2015-07-02 14:30:28</td>\n",
       "      <td>MexicoAccount</td>\n",
       "      <td>email278604</td>\n",
       "      <td>ip70594</td>\n",
       "      <td>card242142</td>\n",
       "    </tr>\n",
       "    <tr>\n",
       "      <th>3</th>\n",
       "      <td>4</td>\n",
       "      <td>2015-11-23 16:34:51</td>\n",
       "      <td>MX</td>\n",
       "      <td>mccredit</td>\n",
       "      <td>547146.0</td>\n",
       "      <td>109900.0</td>\n",
       "      <td>MXN</td>\n",
       "      <td>MX</td>\n",
       "      <td>Ecommerce</td>\n",
       "      <td>Chargeback</td>\n",
       "      <td>True</td>\n",
       "      <td>0</td>\n",
       "      <td>2015-07-03 07:53:37</td>\n",
       "      <td>MexicoAccount</td>\n",
       "      <td>email47409</td>\n",
       "      <td>ip113648</td>\n",
       "      <td>card181744</td>\n",
       "    </tr>\n",
       "    <tr>\n",
       "      <th>4</th>\n",
       "      <td>5</td>\n",
       "      <td>2015-11-09 14:26:08</td>\n",
       "      <td>MX</td>\n",
       "      <td>visaclassic</td>\n",
       "      <td>477291.0</td>\n",
       "      <td>89900.0</td>\n",
       "      <td>MXN</td>\n",
       "      <td>MX</td>\n",
       "      <td>Ecommerce</td>\n",
       "      <td>Chargeback</td>\n",
       "      <td>True</td>\n",
       "      <td>0</td>\n",
       "      <td>2015-07-08 18:35:35</td>\n",
       "      <td>MexicoAccount</td>\n",
       "      <td>email205501</td>\n",
       "      <td>ip83553</td>\n",
       "      <td>card97271</td>\n",
       "    </tr>\n",
       "    <tr>\n",
       "      <th>5</th>\n",
       "      <td>6</td>\n",
       "      <td>2015-11-09 14:26:25</td>\n",
       "      <td>MX</td>\n",
       "      <td>visaclassic</td>\n",
       "      <td>493161.0</td>\n",
       "      <td>79900.0</td>\n",
       "      <td>MXN</td>\n",
       "      <td>MX</td>\n",
       "      <td>Ecommerce</td>\n",
       "      <td>Chargeback</td>\n",
       "      <td>True</td>\n",
       "      <td>0</td>\n",
       "      <td>2015-07-08 23:04:26</td>\n",
       "      <td>MexicoAccount</td>\n",
       "      <td>email243511</td>\n",
       "      <td>ip112410</td>\n",
       "      <td>card159816</td>\n",
       "    </tr>\n",
       "  </tbody>\n",
       "</table>\n",
       "</div>"
      ],
      "text/plain": [
       "   txid          bookingdate issuercountrycode txvariantcode       bin  \\\n",
       "0     1  2015-11-09 14:26:51                MX      mccredit  530056.0   \n",
       "1     2  2015-11-09 14:27:38                MX      mccredit  547046.0   \n",
       "2     3  2015-11-23 16:34:16                MX      mccredit  528843.0   \n",
       "3     4  2015-11-23 16:34:51                MX      mccredit  547146.0   \n",
       "4     5  2015-11-09 14:26:08                MX   visaclassic  477291.0   \n",
       "5     6  2015-11-09 14:26:25                MX   visaclassic  493161.0   \n",
       "\n",
       "     amount currencycode shoppercountrycode shopperinteraction simple_journal  \\\n",
       "0   64800.0          MXN                 MX          Ecommerce     Chargeback   \n",
       "1   44900.0          MXN                 MX          Ecommerce     Chargeback   \n",
       "2  149900.0          MXN                 MX          Ecommerce     Chargeback   \n",
       "3  109900.0          MXN                 MX          Ecommerce     Chargeback   \n",
       "4   89900.0          MXN                 MX          Ecommerce     Chargeback   \n",
       "5   79900.0          MXN                 MX          Ecommerce     Chargeback   \n",
       "\n",
       "  cardverificationcodesupplied  cvcresponsecode         creationdate  \\\n",
       "0                         True                0  2015-07-01 23:03:11   \n",
       "1                         True                0  2015-07-02 04:50:55   \n",
       "2                         True                0  2015-07-02 14:30:28   \n",
       "3                         True                0  2015-07-03 07:53:37   \n",
       "4                         True                0  2015-07-08 18:35:35   \n",
       "5                         True                0  2015-07-08 23:04:26   \n",
       "\n",
       "     accountcode      mail_id     ip_id     card_id  \n",
       "0  MexicoAccount   email68370  ip111778  card184798  \n",
       "1  MexicoAccount  email101299   ip78749  card151595  \n",
       "2  MexicoAccount  email278604   ip70594  card242142  \n",
       "3  MexicoAccount   email47409  ip113648  card181744  \n",
       "4  MexicoAccount  email205501   ip83553   card97271  \n",
       "5  MexicoAccount  email243511  ip112410  card159816  "
      ]
     },
     "execution_count": 91,
     "metadata": {},
     "output_type": "execute_result"
    }
   ],
   "source": [
    "data = pd.read_csv('data_for_student_case.csv', sep=',')\n",
    "data.loc[:5]"
   ]
  },
  {
   "cell_type": "code",
   "execution_count": 92,
   "metadata": {},
   "outputs": [
    {
     "name": "stdout",
     "output_type": "stream",
     "text": [
      "Settled       236691\n",
      "Refused        53346\n",
      "Chargeback       345\n",
      "Name: simple_journal, dtype: int64\n",
      "(290382, 17)\n"
     ]
    }
   ],
   "source": [
    "print(data.simple_journal.value_counts())\n",
    "#print(data.shopperinteraction.value_counts())\n",
    "print(data.shape)"
   ]
  },
  {
   "cell_type": "markdown",
   "metadata": {},
   "source": [
    "- issuercountrycode: country where the card was issued\n",
    "- txvariantcode: the card type that was used (subbrand of visa or master card)\n",
    "- bin: card issuer identifier\n",
    "- amount/currencycode: transaction amount in minor units (so 100 EUR = 100 euro cent)\n",
    "- shoppercountrycode: IP address country\n",
    "- shopperinteraction: Ecommerce if it was an online transaction, ContAuth if it was a (monthly) subscription\n",
    "- simple_journal: Payment status. Authorised = “transaction approved and no fraud reported”, Refused = “transaction was declined, can be fraud, but can also be insufficient funds, etc”, Chargeback = “transaction was approved, but turned out to be fraud”\n",
    "- bookingdate: only relevant for Chargebacks. Time stamp when the chargeback was reported. During simulation you may only use this knowledge after this date. So for example if on an email address a transaction ended in a chargeback, you can only block that email address after the booking date of the chargeback.\n",
    "- cardverificationresponsesupplied: did the shopper provide his 3 digit CVC/CVV2 code?\n",
    "- cvcresponsecode: Validation result of the CVC/CVV2 code: 0 = Unknown, 1=Match, 2=No Match, 3-6=Not checked\n",
    "- creationdate: Date of transaction\n",
    "- accountcode: merchant’s webshop\n",
    "- mail_id: Email address\n",
    "- ip_id: Ip address\n",
    "- card_id: Card number"
   ]
  },
  {
   "cell_type": "markdown",
   "metadata": {},
   "source": [
    "## Data cleaning:"
   ]
  },
  {
   "cell_type": "markdown",
   "metadata": {},
   "source": [
    "### Parsing"
   ]
  },
  {
   "cell_type": "code",
   "execution_count": 93,
   "metadata": {},
   "outputs": [],
   "source": [
    "# Parse dates:\n",
    "data.creationdate = pd.to_datetime(data.creationdate)\n",
    "#data.bookingdate = pd.to_datetime(data.bookingdate)\n",
    "data = data.assign(creation_weekday = data.creationdate.dt.weekday)\n",
    "data = data.assign(creation_hour = data.creationdate.dt.hour)"
   ]
  },
  {
   "cell_type": "code",
   "execution_count": 94,
   "metadata": {},
   "outputs": [],
   "source": [
    "# Parse currencies\n",
    "currency_dict = {'MXN': 0.01*0.05, 'SEK': 0.01*0.11, 'AUD': 0.01*0.67, 'GBP': 0.01*1.28, 'NZD': 0.01*0.61}\n",
    "data = data.assign(euro = list(map(lambda x,y: currency_dict[y]*x, data.amount, data.currencycode)))"
   ]
  },
  {
   "cell_type": "code",
   "execution_count": 95,
   "metadata": {},
   "outputs": [],
   "source": [
    "# Parse CVC codes\n",
    "#data = data.assign(cvcresponse = list(map(lambda x: 3 if x > 2 else x+0, data.cvcresponsecode)))\n",
    "#0 = Unknown, 1=Match, 2=No Match, 3=Not checked"
   ]
  },
  {
   "cell_type": "code",
   "execution_count": 96,
   "metadata": {},
   "outputs": [],
   "source": [
    "# Binary labels\n",
    "label_dict = {'Chargeback': 1, 'Settled': 0, 'Refused': None}\n",
    "data = data.assign(label = list(map(lambda x: label_dict[x], data.simple_journal)))"
   ]
  },
  {
   "cell_type": "markdown",
   "metadata": {},
   "source": [
    "### cleaning"
   ]
  },
  {
   "cell_type": "code",
   "execution_count": 97,
   "metadata": {},
   "outputs": [],
   "source": [
    "# Handle missing data\n",
    "## delete entries:\n",
    "data = data[pd.notnull(data['label'])]\n",
    "#print(data.isnull().sum().sort_values(ascending=False))\n",
    "\n",
    "# Change na to missing for non negative values during onehotencoding\n",
    "data = data.fillna('missing')"
   ]
  },
  {
   "cell_type": "code",
   "execution_count": 98,
   "metadata": {},
   "outputs": [],
   "source": [
    "# Parse Categorical text variables to int/id to enable OneHotEncoder\n",
    "categorical_columns = ['txvariantcode', 'issuercountrycode', 'shoppercountrycode', 'shopperinteraction', 'accountcode', 'mail_id', 'ip_id', 'card_id']\n",
    "\n",
    "def categorical_to_int(column_name):\n",
    "    temp = pd.Categorical(data[column_name])\n",
    "    temp_dict = dict(set(zip(temp, temp.codes)))\n",
    "    data[column_name] = temp.codes\n",
    "    return temp_dict\n",
    "\n",
    "translate_dict = dict()\n",
    "for column in categorical_columns:\n",
    "    translate_dict[column] = categorical_to_int(column)\n",
    "\n",
    "#data.head()"
   ]
  },
  {
   "cell_type": "code",
   "execution_count": 99,
   "metadata": {},
   "outputs": [],
   "source": [
    "# Filter and parse to numpy array\n",
    "input_dict = {'euro' : 'float64', 'txvariantcode' : 'int8', 'issuercountrycode' : 'int8', 'shoppercountrycode' : 'int16', 'shopperinteraction' : 'int8', 'accountcode' : 'int8', 'mail_id' : 'int32', 'ip_id' : 'int32', 'card_id' : 'int32', 'creation_weekday' : 'int8', 'creation_hour' : 'int8', 'label' : 'int8'}\n",
    "\n",
    "data_in = data.loc[:, input_dict.keys()]\n",
    "data_in = data_in.astype(dtype= input_dict)\n",
    "\n",
    "# Create feature set and label set\n",
    "X = data_in[data_in.columns[0:-1]].as_matrix()\n",
    "y = data_in[data_in.columns[-1]].as_matrix()"
   ]
  },
  {
   "cell_type": "code",
   "execution_count": 100,
   "metadata": {},
   "outputs": [],
   "source": [
    "# test for negative values, requirement of one hot encoding\n",
    "for key in translate_dict:\n",
    "    for value in translate_dict[key]:\n",
    "        if translate_dict[key][value] == -1:\n",
    "            print(key)"
   ]
  },
  {
   "cell_type": "markdown",
   "metadata": {},
   "source": [
    "## Describe data:"
   ]
  },
  {
   "cell_type": "code",
   "execution_count": 101,
   "metadata": {},
   "outputs": [
    {
     "name": "stdout",
     "output_type": "stream",
     "text": [
      "Data types in: data_for_student_case.csv\n",
      "euro                  float64\n",
      "txvariantcode            int8\n",
      "issuercountrycode        int8\n",
      "shoppercountrycode      int16\n",
      "shopperinteraction       int8\n",
      "accountcode              int8\n",
      "mail_id                 int32\n",
      "ip_id                   int32\n",
      "card_id                 int32\n",
      "creation_weekday         int8\n",
      "creation_hour            int8\n",
      "label                    int8\n",
      "dtype: object\n",
      "\n",
      "Example:\n",
      "euro                      64.95\n",
      "txvariantcode              2.00\n",
      "issuercountrycode         76.00\n",
      "shoppercountrycode        98.00\n",
      "shopperinteraction         1.00\n",
      "accountcode                1.00\n",
      "mail_id                14107.00\n",
      "ip_id                 187816.00\n",
      "card_id                 1500.00\n",
      "creation_weekday           5.00\n",
      "creation_hour             18.00\n",
      "label                      1.00\n",
      "Name: 10, dtype: float64\n"
     ]
    }
   ],
   "source": [
    "print(\"Data types in: data_for_student_case.csv\")\n",
    "print(data_in.dtypes)\n",
    "print(\"\\nExample:\")\n",
    "print(data_in.iloc[10])"
   ]
  },
  {
   "cell_type": "code",
   "execution_count": 102,
   "metadata": {},
   "outputs": [
    {
     "name": "stderr",
     "output_type": "stream",
     "text": [
      "/opt/conda/lib/python3.6/site-packages/matplotlib/axes/_axes.py:6462: UserWarning: The 'normed' kwarg is deprecated, and has been replaced by the 'density' kwarg.\n",
      "  warnings.warn(\"The 'normed' kwarg is deprecated, and has been \"\n"
     ]
    },
    {
     "data": {
      "image/png": "[encoded data removed]",
      "text/plain": [
       "<Figure size 1080x288 with 1 Axes>"
      ]
     },
     "metadata": {},
     "output_type": "display_data"
    }
   ],
   "source": [
    "plt.figure(figsize=(15,4))\n",
    "ax = plt.subplot()\n",
    "ax.set_xlim([0,23])\n",
    "sns.distplot(data_in['creation_hour'][data_in.label == 1], bins=50, color='red')\n",
    "sns.distplot(data_in['creation_hour'][data_in.label == 0], bins=50, color='green')\n",
    "ax.set_xlabel('')\n",
    "ax.set_title('histogram of feature: creation_hour')\n",
    "plt.savefig(os.path.join('./figs/', 'creation_hour'))\n",
    "plt.show()"
   ]
  },
  {
   "cell_type": "code",
   "execution_count": 103,
   "metadata": {},
   "outputs": [
    {
     "name": "stderr",
     "output_type": "stream",
     "text": [
      "/opt/conda/lib/python3.6/site-packages/matplotlib/axes/_axes.py:6462: UserWarning: The 'normed' kwarg is deprecated, and has been replaced by the 'density' kwarg.\n",
      "  warnings.warn(\"The 'normed' kwarg is deprecated, and has been \"\n"
     ]
    },
    {
     "data": {
      "image/png": "[encoded data removed]",
      "text/plain": [
       "<Figure size 1080x288 with 1 Axes>"
      ]
     },
     "metadata": {},
     "output_type": "display_data"
    }
   ],
   "source": [
    "plt.figure(figsize=(15,4))\n",
    "ax = plt.subplot()\n",
    "ax.set_xlim([0,1000])\n",
    "sns.distplot(data_in['euro'][data_in.label == 1], bins=100, color='red')\n",
    "sns.distplot(data_in['euro'][data_in.label == 0], bins=100, color='green')\n",
    "ax.set_xlabel('')\n",
    "ax.set_title('histogram of feature: euro')\n",
    "plt.savefig(os.path.join('./figs/', 'euro'))\n",
    "plt.show()"
   ]
  },
  {
   "cell_type": "markdown",
   "metadata": {},
   "source": [
    "## Train classifiers"
   ]
  },
  {
   "cell_type": "code",
   "execution_count": 104,
   "metadata": {},
   "outputs": [],
   "source": [
    "from sklearn.model_selection import train_test_split, KFold, StratifiedKFold\n",
    "from sklearn.linear_model import LogisticRegression\n",
    "from sklearn.ensemble import RandomForestClassifier\n",
    "from sklearn.metrics import roc_curve, confusion_matrix, classification_report\n",
    "from sklearn.preprocessing import OneHotEncoder\n",
    "from sklearn.neural_network import MLPClassifier\n",
    "from sklearn.feature_selection import SelectKBest\n",
    "from sklearn.feature_selection import chi2\n",
    "from imblearn.over_sampling import SMOTE\n",
    "\n",
    "sm = SMOTE(random_state=RANDOM_STATE)\n",
    "encoder = OneHotEncoder()"
   ]
  },
  {
   "cell_type": "code",
   "execution_count": 105,
   "metadata": {},
   "outputs": [
    {
     "name": "stdout",
     "output_type": "stream",
     "text": [
      "(237036, 1500)\n"
     ]
    }
   ],
   "source": [
    "# Encode data\n",
    "encoder = OneHotEncoder()\n",
    "encoder.fit(X[:,1:])\n",
    "X_enc = encoder.transform(X[:,1:])\n",
    "numerical = X[:,0]\n",
    "\n",
    "# Add euro column as numerical variable\n",
    "\n",
    "# Select K best for faster fitting, no (significant) influence on performance measured\n",
    "X_kbest = SelectKBest(chi2, k=1500).fit_transform(X_enc, y)\n",
    "print(X_kbest.shape)"
   ]
  },
  {
   "cell_type": "code",
   "execution_count": null,
   "metadata": {},
   "outputs": [],
   "source": []
  },
  {
   "cell_type": "markdown",
   "metadata": {},
   "source": [
    "### Train-test-split  and Kfold training functions\n",
    "\n",
    "Both functions handle the data splitting, testing and scoring of a classifier and its hyper-parameters\n"
   ]
  },
  {
   "cell_type": "code",
   "execution_count": 106,
   "metadata": {},
   "outputs": [],
   "source": [
    "def cutoff_predict(clf, x, cutoff):\n",
    "    return (clf.predict_proba(x)[:,1]>cutoff).astype(int)\n",
    "\n",
    "def test_clf_k_fold(clf, X, y, smote):\n",
    "    y_pred = np.zeros(len(y))\n",
    "    skf = StratifiedKFold(n_splits=K_FOLD)\n",
    "    for train, test in skf.split(X, y):\n",
    "        print(\"train:{} test:{}\".format(train.shape, test.shape))\n",
    "        X_train, y_train = X[train], y[train]\n",
    "        print(\"X_train:{} y_train:{}\".format(X_train.shape, y_train.shape))\n",
    "        if smote:\n",
    "            print(\"Oversample training data ... \")\n",
    "            X_train, y_train = sm.fit_sample(X_train, y_train)\n",
    "            print(\"SMOTE: X_train:{} y_train:{}\".format(X_train.shape, y_train.shape))\n",
    "        print(\"Fitting model ...\")\n",
    "        clf.fit(X_train, y_train)\n",
    "        print(\"Predicting outcomes ...\")\n",
    "        y_pred[test] = cutoff_predict(clf, X[test], CUTOFF)\n",
    "    \n",
    "    print(confusion_matrix(y, y_pred))\n",
    "    print(classification_report(y, y_pred))\n",
    "    fpr, tpr, _ = roc_curve(y, y_pred)\n",
    "    return y_pred, fpr, tpr\n",
    "\n",
    "def test_clf_split(clf, X, y, ratio, smote):\n",
    "    X_train, X_test, y_train, y_test = train_test_split(X, y, test_size=ratio)\n",
    "    if smote:\n",
    "       print(\"Oversample training data ... \")\n",
    "       X_train, y_train = sm.fit_sample(X_train, y_train)\n",
    "    print(\"Fitting model ...\")\n",
    "    clf.fit(X_train, y_train)\n",
    "    print(\"Predicting outcomes ...\")\n",
    "    y_pred = clf.predict_proba(X_test)[:,1]\n",
    "    \n",
    "    y_temp = cutoff_predict(clf, X_test, CUTOFF)\n",
    "    print(confusion_matrix(y_test, y_temp))\n",
    "    print(classification_report(y_test, y_temp))\n",
    "    fpr, tpr, _ = roc_curve(y_test, y_pred)\n",
    "    return y_pred, fpr, tpr\n",
    "\n",
    "\n",
    "\n",
    "#print(X[:100].shape)"
   ]
  },
  {
   "cell_type": "markdown",
   "metadata": {},
   "source": [
    "### Random Forest"
   ]
  },
  {
   "cell_type": "code",
   "execution_count": 107,
   "metadata": {},
   "outputs": [
    {
     "name": "stdout",
     "output_type": "stream",
     "text": [
      "Fitting model ...\n",
      "Predicting outcomes ...\n",
      "[[165689      0]\n",
      " [   237      0]]\n",
      "             precision    recall  f1-score   support\n",
      "\n",
      "          0       1.00      1.00      1.00    165689\n",
      "          1       0.00      0.00      0.00       237\n",
      "\n",
      "avg / total       1.00      1.00      1.00    165926\n",
      "\n"
     ]
    },
    {
     "name": "stderr",
     "output_type": "stream",
     "text": [
      "/opt/conda/lib/python3.6/site-packages/sklearn/metrics/classification.py:1135: UndefinedMetricWarning: Precision and F-score are ill-defined and being set to 0.0 in labels with no predicted samples.\n",
      "  'precision', 'predicted', average, warn_for)\n"
     ]
    },
    {
     "name": "stdout",
     "output_type": "stream",
     "text": [
      "Oversample training data ... \n",
      "Fitting model ...\n",
      "Predicting outcomes ...\n",
      "[[165683      0]\n",
      " [   243      0]]\n",
      "             precision    recall  f1-score   support\n",
      "\n",
      "          0       1.00      1.00      1.00    165683\n",
      "          1       0.00      0.00      0.00       243\n",
      "\n",
      "avg / total       1.00      1.00      1.00    165926\n",
      "\n"
     ]
    },
    {
     "name": "stderr",
     "output_type": "stream",
     "text": [
      "/opt/conda/lib/python3.6/site-packages/sklearn/metrics/classification.py:1135: UndefinedMetricWarning: Precision and F-score are ill-defined and being set to 0.0 in labels with no predicted samples.\n",
      "  'precision', 'predicted', average, warn_for)\n"
     ]
    }
   ],
   "source": [
    "CUTOFF = 0.8\n",
    "clf = RandomForestClassifier(max_depth=5, n_estimators=10, random_state=RANDOM_STATE)\n",
    "\n",
    "#y_pred , fpr, tpr = test_clf_k_fold(clf, X[:1000], y[:1000])\n",
    "y_pred , fpr_rf, tpr_rf = test_clf_split(clf, X_enc, y, 0.7, False)\n",
    "# NOTE: this one takes a while \n",
    "y_pred , fpr_rf_sm, tpr_rf_sm = test_clf_split(clf, X_enc, y, 0.7, True)\n"
   ]
  },
  {
   "cell_type": "markdown",
   "metadata": {},
   "source": [
    "### Logistic Regression"
   ]
  },
  {
   "cell_type": "code",
   "execution_count": 108,
   "metadata": {},
   "outputs": [
    {
     "name": "stdout",
     "output_type": "stream",
     "text": [
      "Fitting model ...\n",
      "Predicting outcomes ...\n",
      "[[165684      0]\n",
      " [   242      0]]\n",
      "             precision    recall  f1-score   support\n",
      "\n",
      "          0       1.00      1.00      1.00    165684\n",
      "          1       0.00      0.00      0.00       242\n",
      "\n",
      "avg / total       1.00      1.00      1.00    165926\n",
      "\n",
      "Oversample training data ... \n"
     ]
    },
    {
     "name": "stderr",
     "output_type": "stream",
     "text": [
      "/opt/conda/lib/python3.6/site-packages/sklearn/metrics/classification.py:1135: UndefinedMetricWarning: Precision and F-score are ill-defined and being set to 0.0 in labels with no predicted samples.\n",
      "  'precision', 'predicted', average, warn_for)\n"
     ]
    },
    {
     "name": "stdout",
     "output_type": "stream",
     "text": [
      "Fitting model ...\n",
      "Predicting outcomes ...\n",
      "[[165685      6]\n",
      " [   213     22]]\n",
      "             precision    recall  f1-score   support\n",
      "\n",
      "          0       1.00      1.00      1.00    165691\n",
      "          1       0.79      0.09      0.17       235\n",
      "\n",
      "avg / total       1.00      1.00      1.00    165926\n",
      "\n"
     ]
    }
   ],
   "source": [
    "CUTOFF = 0.8\n",
    "clf = LogisticRegression()\n",
    "\n",
    "y_pred , fpr_lr, tpr_lr = test_clf_split(clf, X_kbest, y, 0.7, False)\n",
    "#y_pred , fpr_lr_full, tpr_lr_full = test_clf_split(clf, X_enc, y, 0.5, False) # Kbest performance check\n",
    "\n",
    "# NOTE: this one takes a while \n",
    "y_pred , fpr_lr_sm, tpr_lr_sm = test_clf_split(clf, X_kbest, y, 0.7, True)"
   ]
  },
  {
   "cell_type": "markdown",
   "metadata": {},
   "source": [
    "### Multi Layer Perceptron Classifier"
   ]
  },
  {
   "cell_type": "code",
   "execution_count": 109,
   "metadata": {},
   "outputs": [
    {
     "name": "stdout",
     "output_type": "stream",
     "text": [
      "Fitting model ...\n",
      "Predicting outcomes ...\n",
      "[[165681      1]\n",
      " [   232     12]]\n",
      "             precision    recall  f1-score   support\n",
      "\n",
      "          0       1.00      1.00      1.00    165682\n",
      "          1       0.92      0.05      0.09       244\n",
      "\n",
      "avg / total       1.00      1.00      1.00    165926\n",
      "\n",
      "Oversample training data ... \n",
      "Fitting model ...\n",
      "Predicting outcomes ...\n",
      "[[165664      6]\n",
      " [   236     20]]\n",
      "             precision    recall  f1-score   support\n",
      "\n",
      "          0       1.00      1.00      1.00    165670\n",
      "          1       0.77      0.08      0.14       256\n",
      "\n",
      "avg / total       1.00      1.00      1.00    165926\n",
      "\n"
     ]
    }
   ],
   "source": [
    "CUTOFF = 0.8\n",
    "clf = MLPClassifier(hidden_layer_sizes=(100, 50), activation = 'logistic')\n",
    "\n",
    "# NOTE: this both take a while \n",
    "y_pred , fpr_mlp, tpr_mlp = test_clf_split(clf, X_kbest, y, 0.7, False)\n",
    "y_pred , fpr_mlp_sm, tpr_mlp_sm = test_clf_split(clf, X_kbest, y, 0.7, True)"
   ]
  },
  {
   "cell_type": "markdown",
   "metadata": {},
   "source": [
    "## ROC curves\n",
    "\n",
    "Creates a graphic showing the differences in scores of the multiple classifiers with or without SMOTE.\n",
    "\n",
    "- RF: Random Forest\n",
    "- LR: Logistic Regression\n",
    "- MLP: Multi Layer Perceptron "
   ]
  },
  {
   "cell_type": "code",
   "execution_count": 110,
   "metadata": {},
   "outputs": [
    {
     "data": {
      "image/png": "[encoded data removed]",
      "text/plain": [
       "<Figure size 720x720 with 1 Axes>"
      ]
     },
     "metadata": {},
     "output_type": "display_data"
    }
   ],
   "source": [
    "plt.figure(figsize=(10,10))\n",
    "#plt.xlim(0, 0.2)\n",
    "#plt.ylim(0.8, 1)\n",
    "plt.plot([0, 1], [0, 1], 'k--')\n",
    "plt.plot(fpr_rf_sm, tpr_rf_sm, label='RF SMOTE')\n",
    "plt.plot(fpr_rf, tpr_rf, label='RF')\n",
    "plt.plot(fpr_lr, tpr_lr, label='LR')\n",
    "#plt.plot(fpr_lr_full, tpr_lr_full, label='LR full')\n",
    "plt.plot(fpr_lr_sm, tpr_lr_sm, label='LR SMOTE')\n",
    "plt.plot(fpr_mlp, tpr_mlp, label='MLP')\n",
    "plt.plot(fpr_mlp_sm, tpr_mlp_sm, label='MLP SMOTE')\n",
    "# See below\n",
    "# plt.plot(fpr_dt, tpr_dt, label='DT')\n",
    "#plt.plot(fpr_dt_sm, tpr_dt_sm, label='DT')\n",
    "plt.xlabel('False positive rate')\n",
    "plt.ylabel('True positive rate')\n",
    "plt.title('ROC curve')\n",
    "plt.legend(loc='best')\n",
    "plt.savefig(os.path.join('./figs/', 'ROC_curves'))\n",
    "plt.show()\n"
   ]
  },
  {
   "cell_type": "code",
   "execution_count": null,
   "metadata": {},
   "outputs": [],
   "source": []
  },
  {
   "cell_type": "markdown",
   "metadata": {},
   "source": [
    "## Blackbox: auto-encoder"
   ]
  },
  {
   "cell_type": "code",
   "execution_count": 111,
   "metadata": {},
   "outputs": [
    {
     "name": "stdout",
     "output_type": "stream",
     "text": [
      "(236691, 625869)\n",
      "<class 'scipy.sparse.csr.csr_matrix'>\n"
     ]
    }
   ],
   "source": [
    "from sklearn.preprocessing import OneHotEncoder\n",
    "import tensorflow as tf\n",
    "\n",
    "# The label to learn\n",
    "label = 0\n",
    "\n",
    "# Create feature set\n",
    "X = data_in[data_in.columns[0:-1]][data_in.label == label].as_matrix()\n",
    "# Encode data\n",
    "encoder = OneHotEncoder()\n",
    "encoder.fit(X[:,1:])\n",
    "X_in = encoder.transform(X[:,1:])\n",
    "numerical = X[:,0]\n",
    "\n",
    "# Add euro column as numerical variable\n",
    "print(X_in.shape)\n",
    "print(type(X_in))"
   ]
  },
  {
   "cell_type": "markdown",
   "metadata": {},
   "source": [
    "### Model definition"
   ]
  },
  {
   "cell_type": "code",
   "execution_count": 112,
   "metadata": {},
   "outputs": [],
   "source": [
    "\n",
    "# Unfortunately we did not manage to get this part working, to be sure the rest of the notebook runs as expected\n",
    "# we outcommented critical parts that might potentially crash the kernel.\n",
    "\n",
    "# Define graph:\n",
    "#  Feed forward:\n",
    "#     input x > weights \n",
    "#     > encoder: hidden layer 1 (activation funtion) \n",
    "#     > weights > decoder: hidden layer 2 (activation funtion) \n",
    "#     > weights > output y\n",
    "#\n",
    "#  Backpropagation\n",
    "#    Compare input and output using a cost function e.g. cross entropy, ...\n",
    "#\n",
    "#    Learn using optimizer e.g. Stochastic Gradient Descent, ADAGrad, ...\n",
    "\n",
    "# Hyper-parameters\n",
    "learning_rate = 0.001\n",
    "training_iteration = 10\n",
    "batch_size = 256\n",
    "display_step = 1\n",
    "\n",
    "data_dir = '.'\n",
    "\n",
    "# Network parameters\n",
    "n_input = X_in[1].shape[1]\n",
    "n_hidden_1 = 1000\n",
    "n_hidden_2 = 500\n",
    "X = tf.placeholder(\"float\", [None, n_input], name='x')\n",
    "    \n",
    "def auto_encoder_model(x):\n",
    "    # Define weights\n",
    "    weights = {\n",
    "        'encoder_h1': tf.Variable(tf.random_normal([n_input, n_hidden_1])),\n",
    "        'encoder_h2': tf.Variable(tf.random_normal([n_hidden_1, n_hidden_2])),\n",
    "        'decoder_h3': tf.Variable(tf.random_normal([n_hidden_2, n_hidden_1])),\n",
    "        'decoder_h4': tf.Variable(tf.random_normal([n_hidden_1, n_input])),\n",
    "    }\n",
    "    # Define biases\n",
    "    biases = {\n",
    "        'encoder_b1': tf.Variable(tf.random_normal([n_hidden_1])),\n",
    "        'encoder_b2': tf.Variable(tf.random_normal([n_hidden_2])),\n",
    "        'decoder_b3': tf.Variable(tf.random_normal([n_hidden_1])),\n",
    "        'decoder_b4': tf.Variable(tf.random_normal([n_input])),\n",
    "    }\n",
    "    \n",
    "    # Encoder\n",
    "    layer_1 = tf.nn.tanh(tf.add(tf.matmul(x, weights['encoder_h1']), biases['encoder_b1']))\n",
    "    layer_2 = tf.nn.tanh(tf.add(tf.matmul(layer_1, weights['encoder_h2']), biases['encoder_b2']))\n",
    "\n",
    "    # Decoder\n",
    "    layer_3 = tf.nn.tanh(tf.add(tf.matmul(layer_2, weights['decoder_h3']), biases['decoder_b3']))\n",
    "    layer_4 = tf.nn.tanh(tf.add(tf.matmul(layer_3, weights['decoder_h4']), biases['decoder_b4']))\n",
    "    \n",
    "    # layer 4 represents the output\n",
    "    return layer_4\n",
    "\n",
    "# Define model: auto_encoder_model\n",
    "model = auto_encoder_model(X)\n",
    "\n",
    "y_pred = model\n",
    "# Targets are the input data to train the encoder to recognise itself\n",
    "y_true = X\n",
    "\n",
    "# Define cost function: cross entropy\n",
    "cost_function = -tf.reduce_sum(y_true*tf.log(y_pred))\n",
    "\n",
    "# Define optimizer: gradient descent\n",
    "optimizer = tf.train.GradientDescentOptimizer(learning_rate).minimize(cost_function)\n"
   ]
  },
  {
   "cell_type": "code",
   "execution_count": 113,
   "metadata": {},
   "outputs": [],
   "source": [
    "\n",
    "#with tf.Session() as sess:\n",
    "#    sess.run(tf.global_variables_initializer())\n",
    "#    \n",
    "#    avg_cost = 0.\n",
    "#    total_batch = TODO\n",
    "#    \n",
    "#    # Training cycle\n",
    "#    for epoch in range(training_epochs):\n",
    "#        \n",
    "#        # Batch cycle\n",
    "#        for i in range(total_batch):\n",
    "#            sess.run(optimizer, feed_dict={x: batch_xs, y: batch_ys})\n",
    "#            avg_cost += sess.run(cost_function, feed_dict={x: batch_xs, y: batch_ys})/total_batch\n",
    "#    \n",
    "#    \n",
    "#    # Training cycle\n",
    "#    for iteration in range(training_iteration):\n",
    "#        avg_cost = 0.\n",
    "#        total_batch = int(mnist.train.num_examples/batch_size)\n",
    "#        # Loop over all batches\n",
    "#        for i in range(total_batch):\n",
    "#            batch_xs = TODO\n",
    "#            \n",
    "#            # Fit training using batch data\n",
    "#            sess.run(optimizer, feed_dict={x: batch_xs, y: batch_ys})\n",
    "#            \n",
    "#            # Compute the average loss\n",
    "#            avg_cost += sess.run(cost_function, feed_dict={x: batch_xs, y: batch_ys})/total_batch\n",
    "#        # Display logs per iteration step\n",
    "#        if iteration % display_step == 0:\n",
    "#            print(\"Iteration: {} cost={}\".format((iteration + 1), avg_cost))\n",
    "#            \n",
    "#    # \n",
    "#    y_pred = tf.equal(tf.argmax(model, 1), tf.argmax(y, 1))"
   ]
  },
  {
   "cell_type": "code",
   "execution_count": null,
   "metadata": {},
   "outputs": [],
   "source": []
  },
  {
   "cell_type": "code",
   "execution_count": null,
   "metadata": {},
   "outputs": [],
   "source": []
  },
  {
   "cell_type": "markdown",
   "metadata": {},
   "source": [
    "## Whitebox: Decision Tree\n",
    "\n",
    "This decision tree uses the KFold test function implemented earlier."
   ]
  },
  {
   "cell_type": "code",
   "execution_count": null,
   "metadata": {},
   "outputs": [
    {
     "name": "stdout",
     "output_type": "stream",
     "text": [
      "train:(213331,) test:(23705,)\n",
      "X_train:(213331, 1500) y_train:(213331,)\n",
      "Oversample training data ... \n",
      "SMOTE: X_train:(426042, 1500) y_train:(426042,)\n",
      "Fitting model ...\n",
      "Predicting outcomes ...\n",
      "train:(213332,) test:(23704,)\n",
      "X_train:(213332, 1500) y_train:(213332,)\n",
      "Oversample training data ... \n",
      "SMOTE: X_train:(426044, 1500) y_train:(426044,)\n",
      "Fitting model ...\n",
      "Predicting outcomes ...\n",
      "train:(213332,) test:(23704,)\n",
      "X_train:(213332, 1500) y_train:(213332,)\n",
      "Oversample training data ... \n"
     ]
    }
   ],
   "source": [
    "from sklearn.tree import DecisionTreeClassifier\n",
    "KFOLD = 10\n",
    "CUTOFF = 0.8\n",
    "\n",
    "clf = DecisionTreeClassifier()\n",
    "\n",
    "#clf = y_pred , fpr_dt, tpr_dt = test_clf_k_fold(clf, X_kbest, y, False)\n",
    "clf = y_pred , fpr_dt_sm, tpr_dt_sm = test_clf_k_fold(clf, X_kbest, y, True)"
   ]
  },
  {
   "cell_type": "code",
   "execution_count": null,
   "metadata": {},
   "outputs": [],
   "source": [
    "plt.figure(figsize=(10,10))\n",
    "#plt.xlim(0, 0.2)\n",
    "#plt.ylim(0.8, 1)\n",
    "plt.plot([0, 1], [0, 1], 'k--')\n",
    "# See below\n",
    "#plt.plot(fpr_dt, tpr_dt, label='DT')\n",
    "plt.plot(fpr_dt_sm, tpr_dt_sm, label='DT SMOTE')\n",
    "plt.xlabel('False positive rate')\n",
    "plt.ylabel('True positive rate')\n",
    "plt.title('ROC curve')\n",
    "plt.legend(loc='best')\n",
    "plt.savefig(os.path.join('./figs/', 'ROC_curves'))\n",
    "plt.show()"
   ]
  },
  {
   "cell_type": "markdown",
   "metadata": {},
   "source": [
    "## Plots"
   ]
  },
  {
   "cell_type": "code",
   "execution_count": null,
   "metadata": {},
   "outputs": [],
   "source": [
    "#data.groupby('simple_journal').plot(x='creationdate', y='euro', style=\".\", figsize=(20,10))"
   ]
  },
  {
   "cell_type": "code",
   "execution_count": null,
   "metadata": {},
   "outputs": [],
   "source": [
    "#%matplotlib inline\n",
    "#temp = data[['shoppercountrycode', 'simple_journal']]\n",
    "#plt.figure(figsize=(20,50))\n",
    "#sns.heatmap(temp, cmap='RdYlGn_r', linewidths=0.5, annot=True)"
   ]
  },
  {
   "cell_type": "code",
   "execution_count": null,
   "metadata": {},
   "outputs": [],
   "source": [
    "#plt.figure(figsize=(14,12*4))\n",
    "#gs = gridspec.GridSpec(12, 1)\n",
    "#for i, cn in enumerate(data_in.columns[:12]):\n",
    "#    ax = plt.subplot(gs[i])\n",
    "#    sns.distplot(data_in[cn][data_in.label == 1], bins=50)\n",
    "#    sns.distplot(data_in[cn][data_in.label == 0], bins=50)\n",
    "#    ax.set_xlabel('')\n",
    "#    ax.set_title('histogram of feature: ' + str(cn))\n",
    "#plt.show()"
   ]
  },
  {
   "cell_type": "code",
   "execution_count": null,
   "metadata": {},
   "outputs": [],
   "source": []
  }
 ],
 "metadata": {
  "kernelspec": {
   "display_name": "Python 3",
   "language": "python",
   "name": "python3"
  },
  "language_info": {
   "codemirror_mode": {
    "name": "ipython",
    "version": 3
   },
   "file_extension": ".py",
   "mimetype": "text/x-python",
   "name": "python",
   "nbconvert_exporter": "python",
   "pygments_lexer": "ipython3",
   "version": "3.6.4"
  }
 },
 "nbformat": 4,
 "nbformat_minor": 2
}
